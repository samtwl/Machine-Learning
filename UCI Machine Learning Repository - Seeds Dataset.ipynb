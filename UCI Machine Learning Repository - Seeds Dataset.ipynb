{
 "cells": [
  {
   "cell_type": "markdown",
   "metadata": {},
   "source": [
    "# UCI Machine Learning Repository: Bike Sharing Dataset"
   ]
  },
  {
   "cell_type": "markdown",
   "metadata": {},
   "source": [
    "## Dataset Information\n",
    "\n",
    "The examined group comprised kernels belonging to three different varieties of wheat: Kama, Rosa and Canadian, 70 elements each, randomly selected for the experiment. High quality visualization of the internal kernel structure was detected using a soft X-ray technique. It is non-destructive and considerably cheaper than other more sophisticated imaging techniques like scanning microscopy or laser technology. The images were recorded on 13x18 cm X-ray KODAK plates. Studies were conducted using combine harvested wheat grain originating from experimental fields, explored at the Institute of Agrophysics of the Polish Academy of Sciences in Lublin."
   ]
  },
  {
   "cell_type": "markdown",
   "metadata": {},
   "source": [
    "## Model Building: Logistic Regression\n",
    "\n",
    "### Objective 1:\n",
    "Using this dataset, we are interested in building a logistic regression model, based on the length of kernel and the length of kernel groove.\n",
    "\n",
    "### Objective 2:\n",
    "Build a confusion matrix for the logistic regression model\n",
    "\n",
    "### Objective 3:\n",
    "As features in this dataset are not on the same scale, we can perform the standard scaler or min-max scaler on both the training and the test sets. In this case, we will train a standard scaler and a min-max scaler from the original training set. Next, we will visualize the change of training error and test error in response to the change of complexity trade-off parameter C"
   ]
  },
  {
   "cell_type": "markdown",
   "metadata": {},
   "source": [
    "## Objective 1"
   ]
  },
  {
   "cell_type": "markdown",
   "metadata": {},
   "source": [
    "### 1.0 Building a Logistic Regression Model\n",
    "\n",
    "Based on our dataset, we will attempt to build a logistic regression model on two variables 'length of kernel' and 'length of kernel groove'. First, we will load the required packages and read our dataset."
   ]
  },
  {
   "cell_type": "markdown",
   "metadata": {},
   "source": [
    "### 1.1 Loading Packages and Reading Dataset"
   ]
  },
  {
   "cell_type": "code",
   "execution_count": 1,
   "metadata": {},
   "outputs": [],
   "source": [
    "import os\n",
    "\n",
    "os.chdir(\"C:/Users/Samuel/Desktop/SMU MITB/Sem 3/ISSS610-Applied Machine Learning/Assignment 1/dataset\")"
   ]
  },
  {
   "cell_type": "code",
   "execution_count": 2,
   "metadata": {},
   "outputs": [],
   "source": [
    "import pandas as pd\n",
    "import numpy as np\n",
    "from sklearn import linear_model, metrics, preprocessing\n",
    "import matplotlib.pyplot as plt\n",
    "\n",
    "seeds = pd.read_csv('seeds_dataset.txt', delimiter='\\t', header = None)\n",
    "num_row, num_col = seeds.shape"
   ]
  },
  {
   "cell_type": "markdown",
   "metadata": {},
   "source": [
    "### 1.2 Data Pre-Processing\n",
    "\n",
    "Prior to building our model, we want to first obtain a basic summary of our dataset and to perform basic data exploration."
   ]
  },
  {
   "cell_type": "markdown",
   "metadata": {},
   "source": [
    "#### 1.2.1 Data Summary"
   ]
  },
  {
   "cell_type": "code",
   "execution_count": 3,
   "metadata": {},
   "outputs": [
    {
     "data": {
      "text/html": [
       "<div>\n",
       "<style scoped>\n",
       "    .dataframe tbody tr th:only-of-type {\n",
       "        vertical-align: middle;\n",
       "    }\n",
       "\n",
       "    .dataframe tbody tr th {\n",
       "        vertical-align: top;\n",
       "    }\n",
       "\n",
       "    .dataframe thead th {\n",
       "        text-align: right;\n",
       "    }\n",
       "</style>\n",
       "<table border=\"1\" class=\"dataframe\">\n",
       "  <thead>\n",
       "    <tr style=\"text-align: right;\">\n",
       "      <th></th>\n",
       "      <th>0</th>\n",
       "      <th>1</th>\n",
       "      <th>2</th>\n",
       "      <th>3</th>\n",
       "      <th>4</th>\n",
       "      <th>5</th>\n",
       "      <th>6</th>\n",
       "      <th>7</th>\n",
       "    </tr>\n",
       "  </thead>\n",
       "  <tbody>\n",
       "    <tr>\n",
       "      <th>0</th>\n",
       "      <td>15.26</td>\n",
       "      <td>14.84</td>\n",
       "      <td>0.8710</td>\n",
       "      <td>5.763</td>\n",
       "      <td>3.312</td>\n",
       "      <td>2.221</td>\n",
       "      <td>5.220</td>\n",
       "      <td>1</td>\n",
       "    </tr>\n",
       "    <tr>\n",
       "      <th>1</th>\n",
       "      <td>14.88</td>\n",
       "      <td>14.57</td>\n",
       "      <td>0.8811</td>\n",
       "      <td>5.554</td>\n",
       "      <td>3.333</td>\n",
       "      <td>1.018</td>\n",
       "      <td>4.956</td>\n",
       "      <td>1</td>\n",
       "    </tr>\n",
       "    <tr>\n",
       "      <th>2</th>\n",
       "      <td>14.29</td>\n",
       "      <td>14.09</td>\n",
       "      <td>0.9050</td>\n",
       "      <td>5.291</td>\n",
       "      <td>3.337</td>\n",
       "      <td>2.699</td>\n",
       "      <td>4.825</td>\n",
       "      <td>1</td>\n",
       "    </tr>\n",
       "    <tr>\n",
       "      <th>3</th>\n",
       "      <td>13.84</td>\n",
       "      <td>13.94</td>\n",
       "      <td>0.8955</td>\n",
       "      <td>5.324</td>\n",
       "      <td>3.379</td>\n",
       "      <td>2.259</td>\n",
       "      <td>4.805</td>\n",
       "      <td>1</td>\n",
       "    </tr>\n",
       "    <tr>\n",
       "      <th>4</th>\n",
       "      <td>16.14</td>\n",
       "      <td>14.99</td>\n",
       "      <td>0.9034</td>\n",
       "      <td>5.658</td>\n",
       "      <td>3.562</td>\n",
       "      <td>1.355</td>\n",
       "      <td>5.175</td>\n",
       "      <td>1</td>\n",
       "    </tr>\n",
       "  </tbody>\n",
       "</table>\n",
       "</div>"
      ],
      "text/plain": [
       "       0      1       2      3      4      5      6  7\n",
       "0  15.26  14.84  0.8710  5.763  3.312  2.221  5.220  1\n",
       "1  14.88  14.57  0.8811  5.554  3.333  1.018  4.956  1\n",
       "2  14.29  14.09  0.9050  5.291  3.337  2.699  4.825  1\n",
       "3  13.84  13.94  0.8955  5.324  3.379  2.259  4.805  1\n",
       "4  16.14  14.99  0.9034  5.658  3.562  1.355  5.175  1"
      ]
     },
     "execution_count": 3,
     "metadata": {},
     "output_type": "execute_result"
    }
   ],
   "source": [
    "seeds.head(5)"
   ]
  },
  {
   "cell_type": "markdown",
   "metadata": {},
   "source": [
    "#### 1.2.2 Checking for Missing Values"
   ]
  },
  {
   "cell_type": "code",
   "execution_count": 4,
   "metadata": {},
   "outputs": [
    {
     "name": "stdout",
     "output_type": "stream",
     "text": [
      "there are 0 missing values in 210 out of 210 rows.\n",
      "there are 0 missing values in 8 out of 8 columns.\n"
     ]
    }
   ],
   "source": [
    "missing_value_count_row = {}\n",
    "for i in range(num_row):\n",
    "    value_count = seeds.iloc[i,:].value_counts()\n",
    "    missing_count = 0\n",
    "    if '?' in value_count:\n",
    "        missing_count = value_count['?']\n",
    "    if missing_count in missing_value_count_row:\n",
    "        missing_value_count_row[missing_count].append(i)\n",
    "    else:\n",
    "        missing_value_count_row[missing_count] = [i]\n",
    "\n",
    "for missing_count, row_list in missing_value_count_row.items():\n",
    "    print('there are', missing_count * len(row_list), 'missing values in', len(row_list), 'out of', num_row, 'rows.')\n",
    "    \n",
    "missing_value_count_col = {}\n",
    "for j in range(num_col):\n",
    "    value_count = seeds.iloc[:,j].value_counts()\n",
    "    missing_count = 0\n",
    "    if '?' in value_count:\n",
    "        missing_count = value_count['?']\n",
    "    if missing_count in missing_value_count_col:\n",
    "        missing_value_count_col[missing_count].append(j)\n",
    "    else:\n",
    "        missing_value_count_col[missing_count] = [j]\n",
    "\n",
    "for missing_count, col_list in missing_value_count_col.items():\n",
    "    print('there are', missing_count * len(col_list), 'missing values in', len(col_list), 'out of', num_col, 'columns.')"
   ]
  },
  {
   "cell_type": "markdown",
   "metadata": {},
   "source": [
    "### 1.3 Setting Train and Test Data\n",
    "\n",
    "Once we have performed tha basic data exploration, we will now set our train and test dataset to builid our logistic regression model."
   ]
  },
  {
   "cell_type": "code",
   "execution_count": 5,
   "metadata": {},
   "outputs": [],
   "source": [
    "seeds = np.asarray(seeds) #Changing seeds from pd.DataFrame to np.array\n",
    "\n",
    "np.random.seed(2018)\n",
    "train = np.random.choice([True, False], num_row, replace=True, p=[0.5,0.5])\n",
    "x_train = seeds[train,:-1][:,[3,6]]\n",
    "y_train = seeds[train,-1].astype(int)\n",
    "x_test = seeds[~train,:-1][:,[3,6]]\n",
    "y_test = seeds[~train,-1].astype(int)"
   ]
  },
  {
   "cell_type": "markdown",
   "metadata": {},
   "source": [
    "### 1.4 Defining Logistic Regression Model with C = 10 and Multiclass = 'ovr'\n",
    "\n",
    "With our train and test dataset, we will now build our logistic regression model."
   ]
  },
  {
   "cell_type": "code",
   "execution_count": 6,
   "metadata": {},
   "outputs": [
    {
     "name": "stderr",
     "output_type": "stream",
     "text": [
      "C:\\Users\\Samuel\\Anaconda3\\envs\\tensorflow_gpuenv\\lib\\site-packages\\sklearn\\linear_model\\logistic.py:433: FutureWarning: Default solver will be changed to 'lbfgs' in 0.22. Specify a solver to silence this warning.\n",
      "  FutureWarning)\n"
     ]
    },
    {
     "data": {
      "text/plain": [
       "LogisticRegression(C=10, class_weight=None, dual=False, fit_intercept=True,\n",
       "          intercept_scaling=1, max_iter=100, multi_class='ovr',\n",
       "          n_jobs=None, penalty='l2', random_state=None, solver='warn',\n",
       "          tol=0.0001, verbose=0, warm_start=False)"
      ]
     },
     "execution_count": 6,
     "metadata": {},
     "output_type": "execute_result"
    }
   ],
   "source": [
    "logit = linear_model.LogisticRegression(C = 10, multi_class = 'ovr')\n",
    "logit.fit(x_train, y_train)"
   ]
  },
  {
   "cell_type": "markdown",
   "metadata": {},
   "source": [
    "### 1.5 Visualizing the Three Classifiers\n",
    "With our Logistic Regression model built, we will visualize both chosen variables, 'Length of Kernel' and 'Length of Kernel Groove', against the three classifiers, 'Kama', 'Rosa' and 'Canadian'.\n",
    "\n",
    "'Kama', 'Rosa' and 'Canadian' are represented with the colours 'Red', 'Green' and 'Blue' respectively."
   ]
  },
  {
   "cell_type": "code",
   "execution_count": 7,
   "metadata": {},
   "outputs": [
    {
     "data": {
      "image/png": "[encoded data removed]",
      "text/plain": [
       "<Figure size 864x864 with 1 Axes>"
      ]
     },
     "metadata": {
      "needs_background": "light"
     },
     "output_type": "display_data"
    }
   ],
   "source": [
    "def my_linspace(min_value, max_value, steps):\n",
    "    diff = max_value - min_value\n",
    "    return np.linspace(min_value - 0.1 * diff, max_value + 0.1 * diff, steps)\n",
    "\n",
    "steps = 200\n",
    "\n",
    "x0 = my_linspace(min(x_test[:,0]), max(x_test[:,0]), steps)\n",
    "x1 = my_linspace(min(x_test[:,1]), max(x_test[:,1]), steps)\n",
    "xx0, xx1 = np.meshgrid(x0, x1)\n",
    "mesh_data = np.c_[xx0.ravel(), xx1.ravel()]\n",
    "mesh_proba = logit.predict_proba(mesh_data).reshape(steps, steps, 3)\n",
    "\n",
    "color = ['red', 'green', 'blue']\n",
    "y_color = [color[i-1] for i in y_test]\n",
    "\n",
    "contour_color = [plt.cm.Reds, plt.cm.Greens, plt.cm.Blues]\n",
    "plt.figure(figsize=(12, 12))\n",
    "plt.scatter(x_test[:,0], x_test[:,1], c=y_color)\n",
    "\n",
    "for i in range(3):\n",
    "    plt.contourf(xx0, xx1, np.maximum(mesh_proba[:,:,i], 0.5), 20, cmap=contour_color[i], alpha=0.5)\n",
    "\n",
    "plt.xlabel(\"Length of Kernel\")\n",
    "plt.ylabel(\"Length of Kernel Groove\")\n",
    "plt.title(\"Visualization of Three Classifiers\")\n",
    "plt.show()"
   ]
  },
  {
   "cell_type": "markdown",
   "metadata": {},
   "source": [
    "## Objective 2"
   ]
  },
  {
   "cell_type": "markdown",
   "metadata": {},
   "source": [
    "### 2.0 Calculating the Score of Logistic Regression Model\n",
    "In objective 2, we will attempt to calculate the score of our logistic regression model."
   ]
  },
  {
   "cell_type": "markdown",
   "metadata": {},
   "source": [
    "### 2.1 Determining the Size of the Test Set"
   ]
  },
  {
   "cell_type": "code",
   "execution_count": 8,
   "metadata": {},
   "outputs": [
    {
     "name": "stdout",
     "output_type": "stream",
     "text": [
      "The size of test set:  (107, 2)\n"
     ]
    }
   ],
   "source": [
    "print(\"The size of test set: \", x_test.shape)"
   ]
  },
  {
   "cell_type": "markdown",
   "metadata": {},
   "source": [
    "### 2.2 Building a Confusion Matrix for the Logistic Regression Model"
   ]
  },
  {
   "cell_type": "markdown",
   "metadata": {},
   "source": [
    "#### 2.2.1 The confusion matrix is calculated in the format below:"
   ]
  },
  {
   "cell_type": "code",
   "execution_count": 9,
   "metadata": {},
   "outputs": [
    {
     "data": {
      "text/html": [
       "<table><tr><td></td><td>Predicted Class = 1</td><td>Predicted Class = 2</td><td>Predicted Class = 3</td></tr><tr><td>Actual Class = 1</td><td>35</td><td>2</td><td>1</td></tr><tr><td>Actual Class = 2</td><td>0</td><td>32</td><td>1</td></tr><tr><td>Actual Class = 3</td><td>1</td><td>0</td><td>35</td></tr></table>"
      ],
      "text/plain": [
       "[['', 'Predicted Class = 1', 'Predicted Class = 2', 'Predicted Class = 3'],\n",
       " array(['Actual Class = 1', '35', '2', '1'], dtype='<U21'),\n",
       " array(['Actual Class = 2', '0', '32', '1'], dtype='<U21'),\n",
       " array(['Actual Class = 3', '1', '0', '35'], dtype='<U21')]"
      ]
     },
     "execution_count": 9,
     "metadata": {},
     "output_type": "execute_result"
    }
   ],
   "source": [
    "class ListTable(list):       \n",
    "    def _repr_html_(self):\n",
    "        html = [\"<table>\"]\n",
    "        for row in self:\n",
    "            html.append(\"<tr>\")\n",
    "            \n",
    "            for col in row:\n",
    "                html.append(\"<td>{}</td>\".format(col))\n",
    "            \n",
    "            html.append(\"</tr>\")\n",
    "        html.append(\"</table>\")\n",
    "        return ''.join(html)\n",
    "\n",
    "y_pred = logit.predict(x_test)\n",
    "\n",
    "confusion_mat = metrics.confusion_matrix(y_test, y_pred)\n",
    "    \n",
    "confusion_mat_ind = np.asarray([[\"Actual Class = 1\"],\n",
    "                    [\"Actual Class = 2\"],\n",
    "                    [\"Actual Class = 3\"]])\n",
    "\n",
    "confusion_mat_disp = np.hstack((confusion_mat_ind, confusion_mat))\n",
    "    \n",
    "table = ListTable()\n",
    "table.append([\"\", \"Predicted Class = 1\", \"Predicted Class = 2\", \"Predicted Class = 3\"])\n",
    "for i in range(3):\n",
    "    table.append(confusion_mat_disp[i])\n",
    "\n",
    "table"
   ]
  },
  {
   "cell_type": "markdown",
   "metadata": {},
   "source": [
    "### 2.3 What is the Score of the Logistic Regression Model?"
   ]
  },
  {
   "cell_type": "code",
   "execution_count": 10,
   "metadata": {},
   "outputs": [
    {
     "name": "stdout",
     "output_type": "stream",
     "text": [
      "The score of the logistic regression model:  0.9532710280373832\n"
     ]
    }
   ],
   "source": [
    "score = logit.score(x_test, y_test)\n",
    "print(\"The score of the logistic regression model: \", score)"
   ]
  },
  {
   "cell_type": "markdown",
   "metadata": {},
   "source": [
    "### 2.4 What is the Score Function for Logistic Regression?\n",
    "\n",
    "The score function for logistic regression is the accuracy rate, which identifies the proportion of correct predictions / classification. To confirm this, we will manually calculate the accuracy rate based on the confusion matrix table above and compare the results with the logistic regression score calculated using the scikit learn score function.\n",
    "\n",
    "The formula for calculating accuracy rate based on the confusion matrix above is:\n",
    "(Correct Classification / All)"
   ]
  },
  {
   "cell_type": "code",
   "execution_count": 11,
   "metadata": {},
   "outputs": [
    {
     "name": "stdout",
     "output_type": "stream",
     "text": [
      "The accuracy rate is:  0.9532710280373832 \n",
      "\n",
      "The manual calculation of accuracy rate equals to the logistic regression score: True\n"
     ]
    }
   ],
   "source": [
    "accuracy_rate = (35+32+35) / (35+0+1+2+32+0+1+1+35)\n",
    "\n",
    "print(\"The accuracy rate is: \", accuracy_rate, '\\n')\n",
    "\n",
    "print(\"The manual calculation of accuracy rate equals to the logistic regression score:\" , accuracy_rate == score) "
   ]
  },
  {
   "cell_type": "markdown",
   "metadata": {},
   "source": [
    "## Objective 3"
   ]
  },
  {
   "cell_type": "markdown",
   "metadata": {},
   "source": [
    "### 3.0 Visualizing the Change of Training Error and Test Error in Response to Change of Complexity Trade-off Parameter C for the Original Dataset, Standard Scaled Dataset and Min-max Scaled Dataset\n",
    "\n",
    "Since the features in the dataset are not on the same scale, we will perform two sets of scaling and compare the change of training error and test error for each datasets as shown below:"
   ]
  },
  {
   "cell_type": "code",
   "execution_count": 12,
   "metadata": {},
   "outputs": [
    {
     "data": {
      "image/png": "[encoded data removed]",
      "text/plain": [
       "<Figure size 1440x360 with 3 Axes>"
      ]
     },
     "metadata": {
      "needs_background": "light"
     },
     "output_type": "display_data"
    }
   ],
   "source": [
    "x_train = seeds[train,:-1][:,[3,6]]\n",
    "y_train = seeds[train,-1].astype(int)\n",
    "x_test = seeds[~train,:-1][:,[3,6]]\n",
    "y_test = seeds[~train,-1].astype(int)\n",
    "\n",
    "standard_scaler = preprocessing.StandardScaler()\n",
    "x_train_stand = standard_scaler.fit_transform(x_train)\n",
    "x_test_stand = standard_scaler.fit_transform(x_test)\n",
    "\n",
    "min_max_scaler = preprocessing.MinMaxScaler()\n",
    "x_train_min_max = min_max_scaler.fit_transform(x_train)\n",
    "x_test_min_max = min_max_scaler.fit_transform(x_test)\n",
    "\n",
    "C = []\n",
    "for i in range(10):\n",
    "    C_result = [10 ** (i-3)]\n",
    "    for result in C_result:\n",
    "        C.append(result)\n",
    "\n",
    "invloglike_train_ori_final = []\n",
    "invloglike_test_ori_final = []\n",
    "invloglike_train_stand_final = []\n",
    "invloglike_test_stand_final = []\n",
    "invloglike_train_min_max_final = []\n",
    "invloglike_test_min_max_final = []\n",
    "\n",
    "for c in C:\n",
    "    logit_original = linear_model.LogisticRegression(C = c, multi_class = 'multinomial', solver = 'newton-cg')\n",
    "    logit_original.fit(x_train, y_train)\n",
    "    logit_stand = linear_model.LogisticRegression(C = c, multi_class = 'multinomial', solver = 'newton-cg')\n",
    "    logit_stand.fit(x_train_stand, y_train)\n",
    "    logit_min_max = linear_model.LogisticRegression(C = c, multi_class = 'multinomial', solver = 'newton-cg')\n",
    "    logit_min_max.fit(x_train_min_max, y_train)\n",
    "    \n",
    "    \n",
    "    x_train_proba_ori_final = []\n",
    "    x_train_proba_ori = logit_original.predict_proba(x_train)\n",
    "    for num_row in range(len(x_train_proba_ori)):\n",
    "        x_train_proba_ori_result = [x_train_proba_ori[num_row, (y_train[num_row] - 1)]]\n",
    "        for result in x_train_proba_ori_result:\n",
    "            x_train_proba_ori_final.append(result)\n",
    "    x_train_proba_stand_final = []\n",
    "    x_train_proba_stand = logit_stand.predict_proba(x_train_stand)\n",
    "    for num_row in range(len(x_train_proba_stand)):\n",
    "        x_train_proba_stand_result = [x_train_proba_stand[num_row, (y_train[num_row] - 1)]]\n",
    "        for result in x_train_proba_stand_result:\n",
    "            x_train_proba_stand_final.append(result)\n",
    "    x_train_proba_min_max_final = []\n",
    "    x_train_proba_min_max = logit_min_max.predict_proba(x_train_min_max)\n",
    "    for num_row in range(len(x_train_proba_min_max)):\n",
    "        x_train_proba_min_max_result = [x_train_proba_min_max[num_row, (y_train[num_row] - 1)]]\n",
    "        for result in x_train_proba_min_max_result:\n",
    "            x_train_proba_min_max_final.append(result)\n",
    "\n",
    "    \n",
    "    invloglike_train_ori = [-sum(np.log(x_train_proba_ori_final))]\n",
    "    for result in invloglike_train_ori:\n",
    "        invloglike_train_ori_final.append(result)\n",
    "    invloglike_train_stand = [-sum(np.log(x_train_proba_stand_final))]\n",
    "    for result in invloglike_train_stand:\n",
    "        invloglike_train_stand_final.append(result)\n",
    "    invloglike_train_min_max = [-sum(np.log(x_train_proba_min_max_final))]\n",
    "    for result in invloglike_train_min_max:\n",
    "        invloglike_train_min_max_final.append(result)\n",
    "\n",
    "        \n",
    "    x_test_proba_ori_final = []\n",
    "    x_test_proba_ori = logit_original.predict_proba(x_test)\n",
    "    for num_row in range(len(x_test_proba_ori)):\n",
    "        x_test_proba_ori_result = [x_test_proba_ori[num_row, (y_test[num_row] - 1)]]\n",
    "        for result in x_test_proba_ori_result:\n",
    "            x_test_proba_ori_final.append(result)\n",
    "    x_test_proba_stand_final = []\n",
    "    x_test_proba_stand = logit_stand.predict_proba(x_test_stand)\n",
    "    for num_row in range(len(x_test_proba_stand)):\n",
    "        x_test_proba_stand_result = [x_test_proba_stand[num_row, (y_test[num_row] - 1)]]\n",
    "        for result in x_test_proba_stand_result:\n",
    "            x_test_proba_stand_final.append(result)\n",
    "    x_test_proba_min_max_final = []\n",
    "    x_test_proba_min_max = logit_min_max.predict_proba(x_test_min_max)\n",
    "    for num_row in range(len(x_test_proba_min_max)):\n",
    "        x_test_proba_min_max_result = [x_test_proba_min_max[num_row, (y_test[num_row] - 1)]]\n",
    "        for result in x_test_proba_min_max_result:\n",
    "            x_test_proba_min_max_final.append(result)\n",
    "    \n",
    "    \n",
    "    invloglike_test_ori = [-sum(np.log(x_test_proba_ori_final))]\n",
    "    for result in invloglike_test_ori:\n",
    "        invloglike_test_ori_final.append(result)\n",
    "    invloglike_test_stand = [-sum(np.log(x_test_proba_stand_final))]\n",
    "    for result in invloglike_test_stand:\n",
    "        invloglike_test_stand_final.append(result)\n",
    "    invloglike_test_min_max = [-sum(np.log(x_test_proba_min_max_final))]\n",
    "    for result in invloglike_test_min_max:\n",
    "        invloglike_test_min_max_final.append(result)\n",
    "\n",
    "invloglike_train_all = [invloglike_train_ori_final, invloglike_train_stand_final, invloglike_train_min_max_final]\n",
    "invloglike_test_all = [invloglike_test_ori_final, invloglike_test_stand_final, invloglike_test_min_max_final]\n",
    "\n",
    "plt.figure(figsize = (20,5))\n",
    "for i in range(3):\n",
    "    plt.subplot(1,3,i+1)\n",
    "    plt.xscale('log')\n",
    "    plt.ylim([0,140])\n",
    "    plt.xlabel(\"C\")\n",
    "    plt.ylabel(\"Inverse Log Likelihood\")\n",
    "    plt.plot(C, invloglike_train_all[i], 'bo-', C, invloglike_test_all[i], 'ro-')\n",
    "    plt.legend(('Training Error', 'Test Error'),\n",
    "           loc='upper center', shadow=True)\n",
    "    if i == 0:\n",
    "        plt.title(\"Original\")\n",
    "    if i == 1:\n",
    "        plt.title(\"Standard Scaled\")\n",
    "    if i == 2:\n",
    "        plt.title(\"Min-Max Scaled\")\n",
    "plt.show()"
   ]
  },
  {
   "cell_type": "markdown",
   "metadata": {},
   "source": [
    "### 3.1 Discussion on Visualization\n",
    "\n",
    "Since C is equals to 1/lambda, where a high value of lambda contributes the underfitting of the model, C is the inverse of lambda. For a high value of C, the regularization power of the model decreases, which thus leads to a higher complexity of the model, which will thus lead to the overfitting of the data.\n",
    "\n",
    "Therefore, this explanation is observed in the above graphs, where we can see that as C increases, the regularization power of the model decreases. The training error curves decreased rapidly initially as C increases, before plateauing when C = (10 ** 2). Conversely, the test error curves decreased rapidly initially, but instead of pleateauing off as C increases further, the test error curves started to increase slightly. As complexity increases when C increases, the model tends to overfit the data, which caused the error on the test data to increase as well. \n",
    "\n",
    "However, as the model was built on two chosen variables instead of all seven variables in the original dataset, the overfitting of the model is not as much as it would have been, if all seven variables have been used to build the model."
   ]
  },
  {
   "cell_type": "code",
   "execution_count": null,
   "metadata": {},
   "outputs": [],
   "source": []
  }
 ],
 "metadata": {
  "kernelspec": {
   "display_name": "Python 3",
   "language": "python",
   "name": "python3"
  },
  "language_info": {
   "codemirror_mode": {
    "name": "ipython",
    "version": 3
   },
   "file_extension": ".py",
   "mimetype": "text/x-python",
   "name": "python",
   "nbconvert_exporter": "python",
   "pygments_lexer": "ipython3",
   "version": "3.6.8"
  }
 },
 "nbformat": 4,
 "nbformat_minor": 2
}
